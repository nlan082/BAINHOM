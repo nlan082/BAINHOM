{
  "nbformat": 4,
  "nbformat_minor": 0,
  "metadata": {
    "colab": {
      "provenance": [],
      "include_colab_link": true
    },
    "kernelspec": {
      "name": "python3",
      "display_name": "Python 3"
    },
    "language_info": {
      "name": "python"
    }
  },
  "cells": [
    {
      "cell_type": "markdown",
      "metadata": {
        "id": "view-in-github",
        "colab_type": "text"
      },
      "source": [
        "<a href=\"https://colab.research.google.com/github/nlan082/BAINHOM/blob/main/chatbot_for_sales.ipynb\" target=\"_parent\"><img src=\"https://colab.research.google.com/assets/colab-badge.svg\" alt=\"Open In Colab\"/></a>"
      ]
    },
    {
      "cell_type": "code",
      "execution_count": null,
      "metadata": {
        "colab": {
          "base_uri": "https://localhost:8080/"
        },
        "id": "13sRenFGM_aP",
        "outputId": "d8c7974e-d4c9-43b4-b98c-7e34813027dc"
      },
      "outputs": [
        {
          "output_type": "stream",
          "name": "stdout",
          "text": [
            "Chào bạn! Tôi là trợ lý ảo của cửa hàng bánh ngọt LMTN. Bạn có thể hỏi về các sản phẩm hoặc giá cả.\n",
            "Bạn: bánh bò có giá bao nhiêu\n",
            "Bot: Chào bạn! Tôi có thể giúp gì cho bạn hôm nay?\n",
            "Bạn: tôi muốn mua bánh bò\n",
            "Bot: loại bánh bánh bò có giá 15000 VND.\n",
            "Bạn: còn bánh cupcake\n",
            "Bot: loại bánh bánh cupcake có giá 20000 VND.\n",
            "Bạn: oke tôi cảm ơn nhiều\n",
            "Bot: Xin chào! Cần giúp gì không?\n"
          ]
        }
      ],
      "source": [
        "import random\n",
        "\n",
        "products = {\n",
        "    \"bánh cupcake\": 20000,\n",
        "    \"bánh croissant\": 30000,\n",
        "    \"bánh bông lan trứng muối\": 35000,\n",
        "    \"bánh mì phô mai\": 30000,\n",
        "    \"bánh kim sa hoàng kim\": 25000,\n",
        "    \"bánh mì bơ tỏi\": 40000,\n",
        "    \"bánh mochi\": 15000,\n",
        "    \"bánh tai heo\": 10000,\n",
        "    \"bánh gấu \": 10000,\n",
        "    \"bánh da lợn\": 300000,\n",
        "    \"bánh bò\": 15000,\n",
        "    \"sữa đậu nành\": 15000,\n",
        "    \"sữa chua nha đam\": 15000,\n",
        "    \"sữa chua sương sáo\": 10000,\n",
        "}\n",
        "\n",
        "greetings = [\"Chào bạn! Tôi có thể giúp gì cho bạn hôm nay?\", \"Xin chào! Cần giúp gì không?\", \"Chào bạn, tôi có thể hỗ trợ bạn như thế nào?\"]\n",
        "goodbyes = [\"Tạm biệt! Hẹn gặp lại.\", \"Cảm ơn bạn đã ghé thăm, chúc bạn một ngày tốt lành!\", \"Tạm biệt, nếu cần gì cứ quay lại nhé!\"]\n",
        "help_message = \"Bạn có thể hỏi tôi về các sản phẩm văn phòng phẩm như bút mực, bút chì, sách giáo khoa, thước kẻ, và nhiều hơn nữa.\"\n",
        "\n",
        "def chatbot_response(user_input):\n",
        "    # Chuyển đổi input của người dùng thành chữ thường để xử lý dễ dàng\n",
        "    user_input = user_input.lower()\n",
        "\n",
        "    # Kiểm tra các câu chào\n",
        "    if \"chào\" in user_input or \"hi\" in user_input or \"xin chào\" in user_input:\n",
        "        return random.choice(greetings)\n",
        "\n",
        "    # Kiểm tra yêu cầu về sản phẩm\n",
        "    for product in products:\n",
        "        if product in user_input:\n",
        "            return f\"loại bánh {product} có giá {products[product]} VND.\"\n",
        "\n",
        "    # Câu hỏi về các sản phẩm có sẵn\n",
        "    if \"có gì\" in user_input or \"loại bánh\" in user_input:\n",
        "        return \"Chúng tôi có rất nhiều loại bánh: ... Bạn muốn tìm bánh nào?\"\n",
        "\n",
        "    # Kiểm tra câu hỏi về giá cả\n",
        "    if \"giá\" in user_input:\n",
        "        return \"Vui lòng cung cấp tên loại bạn muốn biết giá.\"\n",
        "        if product in user_input:\n",
        "            return f\"Bánh {product} có giá {products[product]} VND.\"\n",
        "\n",
        "    # Câu hỏi không rõ ràng\n",
        "    if \"giúp\" in user_input or \"trợ giúp\" in user_input:\n",
        "        return help_message\n",
        "\n",
        "    # Kiểm tra lời chào tạm biệt\n",
        "    if \"tạm biệt\" in user_input or \"bye\" in user_input or \"cảm ơn\" in user_input:\n",
        "        return random.choice(goodbyes)\n",
        "\n",
        "    return \"Xin lỗi, tôi không hiểu câu hỏi của bạn. Bạn có thể hỏi lại không?\"\n",
        "\n",
        "# Hàm chạy chatbot\n",
        "def chat():\n",
        "    print(\"Chào bạn! Tôi là trợ lý ảo của cửa hàng bánh ngọt LMTN. Bạn có thể hỏi về các sản phẩm hoặc giá cả.\")\n",
        "\n",
        "    while True:\n",
        "        user_input = input(\"Bạn: \")\n",
        "        if \"tạm biệt\" in user_input or \"bye\" in user_input or \"cảm ơn\" in user_input:\n",
        "            print(f\"Bot: {chatbot_response(user_input)}\")\n",
        "            break\n",
        "        else:\n",
        "            print(f\"Bot: {chatbot_response(user_input)}\")\n",
        "\n",
        "# Bắt đầu trò chuyện\n",
        "chat()"
      ]
    }
  ]
}